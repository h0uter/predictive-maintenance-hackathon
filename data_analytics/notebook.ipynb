{
 "cells": [
  {
   "cell_type": "code",
   "execution_count": 1,
   "metadata": {
    "cell_id": "9198e5d0-2a19-45df-b24b-055533cd4793",
    "deepnote_cell_height": 309.6875,
    "deepnote_cell_type": "code",
    "deepnote_to_be_reexecuted": false,
    "execution_millis": 6865,
    "execution_start": 1648321134860,
    "source_hash": "48a381d9",
    "tags": []
   },
   "outputs": [],
   "source": [
    "# Start writing code here...\n",
    "# !pip install openpyxl\n"
   ]
  },
  {
   "cell_type": "code",
   "execution_count": 2,
   "metadata": {
    "cell_id": "71d1801fd075440fbcd0f4ebc4d60d65",
    "deepnote_cell_height": 171,
    "deepnote_cell_type": "code",
    "deepnote_to_be_reexecuted": false,
    "execution_millis": 271683,
    "execution_start": 1648321143401,
    "source_hash": "b06f9e63",
    "tags": []
   },
   "outputs": [],
   "source": [
    "import pandas as pd\n",
    "\n",
    "\n",
    "file_name = \"Hackathon_Nobian_dataset.xlsx\"\n",
    "\n",
    "df = pd.read_excel(file_name)"
   ]
  },
  {
   "cell_type": "code",
   "execution_count": 15,
   "metadata": {
    "cell_id": "7fdc8bbc5aad4df29afd503859c732ee",
    "deepnote_cell_height": 393,
    "deepnote_cell_type": "code",
    "deepnote_to_be_reexecuted": false,
    "execution_millis": 18,
    "execution_start": 1648321438170,
    "source_hash": "c085b6ba",
    "tags": []
   },
   "outputs": [
    {
     "data": {
      "text/html": [
       "<div>\n",
       "<style scoped>\n",
       "    .dataframe tbody tr th:only-of-type {\n",
       "        vertical-align: middle;\n",
       "    }\n",
       "\n",
       "    .dataframe tbody tr th {\n",
       "        vertical-align: top;\n",
       "    }\n",
       "\n",
       "    .dataframe thead th {\n",
       "        text-align: right;\n",
       "    }\n",
       "</style>\n",
       "<table border=\"1\" class=\"dataframe\">\n",
       "  <thead>\n",
       "    <tr style=\"text-align: right;\">\n",
       "      <th></th>\n",
       "      <th>valve (A) timestamp</th>\n",
       "      <th>valve (A) output value</th>\n",
       "      <th>flow setpoint (B) timestamp</th>\n",
       "      <th>flow setpoint (B) value</th>\n",
       "      <th>flow measurment (C) timestamp</th>\n",
       "      <th>flow measurment (C) value</th>\n",
       "    </tr>\n",
       "  </thead>\n",
       "  <tbody>\n",
       "    <tr>\n",
       "      <th>0</th>\n",
       "      <td>2017-06-07 00:12:00</td>\n",
       "      <td>33.901329</td>\n",
       "      <td>2020-12-08 11:02:00</td>\n",
       "      <td>34.110046</td>\n",
       "      <td>2017-06-07 00:32:00</td>\n",
       "      <td>32.778099</td>\n",
       "    </tr>\n",
       "    <tr>\n",
       "      <th>1</th>\n",
       "      <td>2017-06-07 00:15:00</td>\n",
       "      <td>34.122898</td>\n",
       "      <td>2020-12-08 11:03:00</td>\n",
       "      <td>34.098965</td>\n",
       "      <td>2017-06-07 00:33:00</td>\n",
       "      <td>32.574242</td>\n",
       "    </tr>\n",
       "    <tr>\n",
       "      <th>2</th>\n",
       "      <td>2017-06-07 00:17:01</td>\n",
       "      <td>33.354141</td>\n",
       "      <td>2020-12-08 11:04:00</td>\n",
       "      <td>34.082336</td>\n",
       "      <td>2017-06-07 00:34:00</td>\n",
       "      <td>33.218788</td>\n",
       "    </tr>\n",
       "    <tr>\n",
       "      <th>3</th>\n",
       "      <td>2017-06-07 00:32:00</td>\n",
       "      <td>34.0994</td>\n",
       "      <td>2020-12-08 11:05:00</td>\n",
       "      <td>34.101734</td>\n",
       "      <td>2017-06-07 00:57:00</td>\n",
       "      <td>33.102821</td>\n",
       "    </tr>\n",
       "    <tr>\n",
       "      <th>4</th>\n",
       "      <td>2017-06-07 00:34:00</td>\n",
       "      <td>34.3881</td>\n",
       "      <td>2020-12-08 11:06:00</td>\n",
       "      <td>34.098965</td>\n",
       "      <td>2017-06-07 01:14:00</td>\n",
       "      <td>33.162628</td>\n",
       "    </tr>\n",
       "  </tbody>\n",
       "</table>\n",
       "</div>"
      ],
      "text/plain": [
       "  valve (A) timestamp valve (A) output value flow setpoint (B) timestamp  \\\n",
       "0 2017-06-07 00:12:00              33.901329         2020-12-08 11:02:00   \n",
       "1 2017-06-07 00:15:00              34.122898         2020-12-08 11:03:00   \n",
       "2 2017-06-07 00:17:01              33.354141         2020-12-08 11:04:00   \n",
       "3 2017-06-07 00:32:00                34.0994         2020-12-08 11:05:00   \n",
       "4 2017-06-07 00:34:00                34.3881         2020-12-08 11:06:00   \n",
       "\n",
       "  flow setpoint (B) value flow measurment (C) timestamp  \\\n",
       "0               34.110046           2017-06-07 00:32:00   \n",
       "1               34.098965           2017-06-07 00:33:00   \n",
       "2               34.082336           2017-06-07 00:34:00   \n",
       "3               34.101734           2017-06-07 00:57:00   \n",
       "4               34.098965           2017-06-07 01:14:00   \n",
       "\n",
       "  flow measurment (C) value  \n",
       "0                 32.778099  \n",
       "1                 32.574242  \n",
       "2                 33.218788  \n",
       "3                 33.102821  \n",
       "4                 33.162628  "
      ]
     },
     "execution_count": 15,
     "metadata": {},
     "output_type": "execute_result"
    }
   ],
   "source": [
    "df.head()"
   ]
  },
  {
   "cell_type": "code",
   "execution_count": null,
   "metadata": {
    "cell_id": "1a75ebc45ea24f069829906943825ebb",
    "deepnote_cell_height": 54,
    "deepnote_cell_type": "visualization"
   },
   "outputs": [],
   "source": []
  },
  {
   "cell_type": "code",
   "execution_count": 26,
   "metadata": {
    "cell_id": "6adbc8ed978c44e7b24f69a0915c4449",
    "deepnote_cell_height": 117,
    "deepnote_cell_type": "code",
    "deepnote_to_be_reexecuted": false,
    "execution_millis": 5045,
    "execution_start": 1648322540626,
    "source_hash": "6a6f1789",
    "tags": []
   },
   "outputs": [],
   "source": [
    "t_a = [t for t in df[\"valve (A) timestamp\"] if t is not pd.NaT]\n",
    "t_b = [t for t in df[\"flow setpoint (B) timestamp\"] if t is not pd.NaT]\n",
    "t_c = [t for t in df[\"flow measurment (C) timestamp\"] if t is not pd.NaT]"
   ]
  },
  {
   "cell_type": "code",
   "execution_count": 27,
   "metadata": {
    "cell_id": "e511d4c680d24775976831c1f34611a8",
    "deepnote_cell_height": 186.375,
    "deepnote_cell_type": "code",
    "deepnote_to_be_reexecuted": false,
    "execution_millis": 6,
    "execution_start": 1648322558678,
    "source_hash": "a5fd1ab6",
    "tags": []
   },
   "outputs": [
    {
     "name": "stdout",
     "output_type": "stream",
     "text": [
      "2020-12-08 11:02:00\n",
      "2022-03-23 00:00:00\n"
     ]
    }
   ],
   "source": [
    "t_s = max(t_a[0], t_b[0], t_c[0])\n",
    "print(t_s)\n",
    "t_e = min(t_a[-1], t_b[-1], t_c[-1])\n",
    "print(t_e)"
   ]
  },
  {
   "cell_type": "code",
   "execution_count": 28,
   "metadata": {
    "cell_id": "6e991b23549e4047bd68013540fc1761",
    "deepnote_cell_height": 435,
    "deepnote_cell_type": "code",
    "deepnote_to_be_reexecuted": false,
    "execution_millis": 8686,
    "execution_start": 1648321610626,
    "source_hash": "bbd79da0",
    "tags": []
   },
   "outputs": [
    {
     "data": {
      "text/plain": [
       "<AxesSubplot:>"
      ]
     },
     "execution_count": 28,
     "metadata": {},
     "output_type": "execute_result"
    },
    {
     "data": {
      "image/png": "[encoded data removed]",
      "text/plain": [
       "<Figure size 432x288 with 1 Axes>"
      ]
     },
     "metadata": {
      "needs_background": "light"
     },
     "output_type": "display_data"
    }
   ],
   "source": [
    "\n",
    "\n",
    "df.plot()"
   ]
  },
  {
   "cell_type": "code",
   "execution_count": 29,
   "metadata": {
    "cell_id": "224f49f9a440444da34f4772d4f471b7",
    "deepnote_cell_height": 465.125,
    "deepnote_cell_type": "code",
    "deepnote_to_be_reexecuted": false,
    "execution_millis": 23,
    "execution_start": 1648322797164,
    "source_hash": "18ea1279",
    "tags": []
   },
   "outputs": [
    {
     "name": "stdout",
     "output_type": "stream",
     "text": [
      "161157\n",
      "0\n",
      "202547\n",
      "805440\n",
      "644258\n",
      "846848\n"
     ]
    }
   ],
   "source": [
    "A_start_idx = df.index[df[\"valve (A) timestamp\"] == t_s].tolist()[0]\n",
    "B_start_idx = df.index[df[\"flow setpoint (B) timestamp\"] == t_s].tolist()[0]\n",
    "C_start_idx = df.index[df[\"flow measurment (C) timestamp\"] == t_s].tolist()[0]\n",
    "\n",
    "print(A_start_idx)\n",
    "print(B_start_idx)\n",
    "print(C_start_idx)\n",
    "\n",
    "A_end_idx = df.index[df[\"valve (A) timestamp\"] == t_e].tolist()[0]\n",
    "B_end_idx = df.index[df[\"flow setpoint (B) timestamp\"] == t_e].tolist()[0]\n",
    "C_end_idx = df.index[df[\"flow measurment (C) timestamp\"] == t_e].tolist()[0]\n",
    "\n",
    "print(A_end_idx)\n",
    "print(B_end_idx)\n",
    "print(C_end_idx)"
   ]
  },
  {
   "cell_type": "code",
   "execution_count": 30,
   "metadata": {
    "cell_id": "b4ff32205013429b8be565bed43a8f77",
    "deepnote_cell_height": 536.625,
    "deepnote_cell_type": "code",
    "deepnote_to_be_reexecuted": false,
    "execution_millis": 29,
    "execution_start": 1648323071473,
    "source_hash": "d54a20c",
    "tags": []
   },
   "outputs": [
    {
     "name": "stdout",
     "output_type": "stream",
     "text": [
      "644283 644258\n",
      "644258 644301\n"
     ]
    }
   ],
   "source": [
    "crop_A = df[\"valve (A) output value\"][A_start_idx:A_end_idx]\n",
    "crop_B = df[\"flow setpoint (B) value\"][B_start_idx:B_end_idx]\n",
    "crop_C = df[\"flow measurment (C) value\"][C_start_idx:C_end_idx]\n",
    "print(len(crop_A), len(crop_B))\n",
    "print(len(crop_B), len(crop_C))\n",
    "crop_A_t = df[\"valve (A) timestamp\"][A_start_idx:A_end_idx]\n",
    "crop_B_t = df[\"flow setpoint (B) timestamp\"][B_start_idx:B_end_idx]\n",
    "crop_C_t = df[\"flow measurment (C) timestamp\"][C_start_idx:C_end_idx]\n",
    "\n"
   ]
  },
  {
   "cell_type": "code",
   "execution_count": 37,
   "metadata": {},
   "outputs": [
    {
     "data": {
      "text/html": [
       "<div>\n",
       "<style scoped>\n",
       "    .dataframe tbody tr th:only-of-type {\n",
       "        vertical-align: middle;\n",
       "    }\n",
       "\n",
       "    .dataframe tbody tr th {\n",
       "        vertical-align: top;\n",
       "    }\n",
       "\n",
       "    .dataframe thead th {\n",
       "        text-align: right;\n",
       "    }\n",
       "</style>\n",
       "<table border=\"1\" class=\"dataframe\">\n",
       "  <thead>\n",
       "    <tr style=\"text-align: right;\">\n",
       "      <th></th>\n",
       "      <th>0</th>\n",
       "      <th>1</th>\n",
       "      <th>2</th>\n",
       "      <th>3</th>\n",
       "      <th>4</th>\n",
       "      <th>5</th>\n",
       "      <th>6</th>\n",
       "      <th>7</th>\n",
       "      <th>8</th>\n",
       "      <th>9</th>\n",
       "      <th>...</th>\n",
       "      <th>805431</th>\n",
       "      <th>805432</th>\n",
       "      <th>805433</th>\n",
       "      <th>805434</th>\n",
       "      <th>805435</th>\n",
       "      <th>805436</th>\n",
       "      <th>805437</th>\n",
       "      <th>805438</th>\n",
       "      <th>805439</th>\n",
       "      <th>805440</th>\n",
       "    </tr>\n",
       "  </thead>\n",
       "  <tbody>\n",
       "    <tr>\n",
       "      <th>t_a</th>\n",
       "      <td>2017-06-07 00:12:00</td>\n",
       "      <td>2017-06-07 00:15:00</td>\n",
       "      <td>2017-06-07 00:17:01</td>\n",
       "      <td>2017-06-07 00:32:00</td>\n",
       "      <td>2017-06-07 00:34:00</td>\n",
       "      <td>2017-06-07 00:37:00</td>\n",
       "      <td>2017-06-07 00:52:00</td>\n",
       "      <td>2017-06-07 01:02:00</td>\n",
       "      <td>2017-06-07 01:11:00</td>\n",
       "      <td>2017-06-07 01:13:00</td>\n",
       "      <td>...</td>\n",
       "      <td>2022-03-22 23:51:00</td>\n",
       "      <td>2022-03-22 23:52:00</td>\n",
       "      <td>2022-03-22 23:53:00</td>\n",
       "      <td>2022-03-22 23:54:00</td>\n",
       "      <td>2022-03-22 23:55:00</td>\n",
       "      <td>2022-03-22 23:56:00</td>\n",
       "      <td>2022-03-22 23:57:00</td>\n",
       "      <td>2022-03-22 23:58:00</td>\n",
       "      <td>2022-03-22 23:59:00</td>\n",
       "      <td>2022-03-23</td>\n",
       "    </tr>\n",
       "    <tr>\n",
       "      <th>crop_A</th>\n",
       "      <td>41.358326</td>\n",
       "      <td>41.336464</td>\n",
       "      <td>41.15049</td>\n",
       "      <td>41.724281</td>\n",
       "      <td>41.843632</td>\n",
       "      <td>41.94474</td>\n",
       "      <td>41.470345</td>\n",
       "      <td>41.121578</td>\n",
       "      <td>41.359692</td>\n",
       "      <td>41.170689</td>\n",
       "      <td>...</td>\n",
       "      <td>NaT</td>\n",
       "      <td>NaT</td>\n",
       "      <td>NaT</td>\n",
       "      <td>NaT</td>\n",
       "      <td>NaT</td>\n",
       "      <td>NaT</td>\n",
       "      <td>NaT</td>\n",
       "      <td>NaT</td>\n",
       "      <td>NaT</td>\n",
       "      <td>NaT</td>\n",
       "    </tr>\n",
       "  </tbody>\n",
       "</table>\n",
       "<p>2 rows × 805441 columns</p>\n",
       "</div>"
      ],
      "text/plain": [
       "                     0                    1                    2       \\\n",
       "t_a     2017-06-07 00:12:00  2017-06-07 00:15:00  2017-06-07 00:17:01   \n",
       "crop_A            41.358326            41.336464             41.15049   \n",
       "\n",
       "                     3                    4                    5       \\\n",
       "t_a     2017-06-07 00:32:00  2017-06-07 00:34:00  2017-06-07 00:37:00   \n",
       "crop_A            41.724281            41.843632             41.94474   \n",
       "\n",
       "                     6                    7                    8       \\\n",
       "t_a     2017-06-07 00:52:00  2017-06-07 01:02:00  2017-06-07 01:11:00   \n",
       "crop_A            41.470345            41.121578            41.359692   \n",
       "\n",
       "                     9       ...              805431              805432  \\\n",
       "t_a     2017-06-07 01:13:00  ... 2022-03-22 23:51:00 2022-03-22 23:52:00   \n",
       "crop_A            41.170689  ...                 NaT                 NaT   \n",
       "\n",
       "                    805433              805434              805435  \\\n",
       "t_a    2022-03-22 23:53:00 2022-03-22 23:54:00 2022-03-22 23:55:00   \n",
       "crop_A                 NaT                 NaT                 NaT   \n",
       "\n",
       "                    805436              805437              805438  \\\n",
       "t_a    2022-03-22 23:56:00 2022-03-22 23:57:00 2022-03-22 23:58:00   \n",
       "crop_A                 NaT                 NaT                 NaT   \n",
       "\n",
       "                    805439     805440  \n",
       "t_a    2022-03-22 23:59:00 2022-03-23  \n",
       "crop_A                 NaT        NaT  \n",
       "\n",
       "[2 rows x 805441 columns]"
      ]
     },
     "execution_count": 37,
     "metadata": {},
     "output_type": "execute_result"
    }
   ],
   "source": [
    "pd.DataFrame([t_a, crop_A], index=[\"t_a\", \"crop_A\"])"
   ]
  },
  {
   "cell_type": "code",
   "execution_count": 31,
   "metadata": {
    "cell_id": "3cfc3e3d6a0347dd8d6b40b5a0daebc3",
    "deepnote_cell_height": 441,
    "deepnote_cell_type": "code",
    "deepnote_to_be_reexecuted": true,
    "source_hash": "28e7cbe6",
    "tags": []
   },
   "outputs": [
    {
     "ename": "KeyError",
     "evalue": "0",
     "output_type": "error",
     "traceback": [
      "\u001b[0;31m---------------------------------------------------------------------------\u001b[0m",
      "\u001b[0;31mValueError\u001b[0m                                Traceback (most recent call last)",
      "File \u001b[0;32m~/miniforge3/envs/hackathon/lib/python3.9/site-packages/pandas/core/indexes/range.py:385\u001b[0m, in \u001b[0;36mRangeIndex.get_loc\u001b[0;34m(self, key, method, tolerance)\u001b[0m\n\u001b[1;32m    <a href='file:///Users/wmeijer/miniforge3/envs/hackathon/lib/python3.9/site-packages/pandas/core/indexes/range.py?line=383'>384</a>\u001b[0m \u001b[39mtry\u001b[39;00m:\n\u001b[0;32m--> <a href='file:///Users/wmeijer/miniforge3/envs/hackathon/lib/python3.9/site-packages/pandas/core/indexes/range.py?line=384'>385</a>\u001b[0m     \u001b[39mreturn\u001b[39;00m \u001b[39mself\u001b[39;49m\u001b[39m.\u001b[39;49m_range\u001b[39m.\u001b[39;49mindex(new_key)\n\u001b[1;32m    <a href='file:///Users/wmeijer/miniforge3/envs/hackathon/lib/python3.9/site-packages/pandas/core/indexes/range.py?line=385'>386</a>\u001b[0m \u001b[39mexcept\u001b[39;00m \u001b[39mValueError\u001b[39;00m \u001b[39mas\u001b[39;00m err:\n",
      "\u001b[0;31mValueError\u001b[0m: 0 is not in range",
      "\nThe above exception was the direct cause of the following exception:\n",
      "\u001b[0;31mKeyError\u001b[0m                                  Traceback (most recent call last)",
      "\u001b[1;32m/Users/wmeijer/Repositories/predictive-maintenance-hackathon/data_analytics/notebook.ipynb Cell 10'\u001b[0m in \u001b[0;36m<cell line: 2>\u001b[0;34m()\u001b[0m\n\u001b[1;32m      <a href='vscode-notebook-cell:/Users/wmeijer/Repositories/predictive-maintenance-hackathon/data_analytics/notebook.ipynb#ch0000009?line=0'>1</a>\u001b[0m i \u001b[39m=\u001b[39m \u001b[39m0\u001b[39m\n\u001b[1;32m      <a href='vscode-notebook-cell:/Users/wmeijer/Repositories/predictive-maintenance-hackathon/data_analytics/notebook.ipynb#ch0000009?line=1'>2</a>\u001b[0m \u001b[39mwhile\u001b[39;00m i \u001b[39m<\u001b[39m \u001b[39mlen\u001b[39m(crop_A_t) \u001b[39mand\u001b[39;00m i \u001b[39m<\u001b[39m \u001b[39mlen\u001b[39m(crop_B_t) \u001b[39mand\u001b[39;00m i \u001b[39m<\u001b[39m \u001b[39mlen\u001b[39m(crop_C_t):\n\u001b[0;32m----> <a href='vscode-notebook-cell:/Users/wmeijer/Repositories/predictive-maintenance-hackathon/data_analytics/notebook.ipynb#ch0000009?line=2'>3</a>\u001b[0m     t \u001b[39m=\u001b[39m \u001b[39mmax\u001b[39m(crop_A_t[i], crop_B_t[i], crop_C_t[i])\n\u001b[1;32m      <a href='vscode-notebook-cell:/Users/wmeijer/Repositories/predictive-maintenance-hackathon/data_analytics/notebook.ipynb#ch0000009?line=3'>4</a>\u001b[0m     step \u001b[39m=\u001b[39m \u001b[39mTrue\u001b[39;00m\n\u001b[1;32m      <a href='vscode-notebook-cell:/Users/wmeijer/Repositories/predictive-maintenance-hackathon/data_analytics/notebook.ipynb#ch0000009?line=4'>5</a>\u001b[0m     \u001b[39mif\u001b[39;00m crop_A_t[i] \u001b[39m<\u001b[39m t:\n",
      "File \u001b[0;32m~/miniforge3/envs/hackathon/lib/python3.9/site-packages/pandas/core/series.py:958\u001b[0m, in \u001b[0;36mSeries.__getitem__\u001b[0;34m(self, key)\u001b[0m\n\u001b[1;32m    <a href='file:///Users/wmeijer/miniforge3/envs/hackathon/lib/python3.9/site-packages/pandas/core/series.py?line=954'>955</a>\u001b[0m     \u001b[39mreturn\u001b[39;00m \u001b[39mself\u001b[39m\u001b[39m.\u001b[39m_values[key]\n\u001b[1;32m    <a href='file:///Users/wmeijer/miniforge3/envs/hackathon/lib/python3.9/site-packages/pandas/core/series.py?line=956'>957</a>\u001b[0m \u001b[39melif\u001b[39;00m key_is_scalar:\n\u001b[0;32m--> <a href='file:///Users/wmeijer/miniforge3/envs/hackathon/lib/python3.9/site-packages/pandas/core/series.py?line=957'>958</a>\u001b[0m     \u001b[39mreturn\u001b[39;00m \u001b[39mself\u001b[39;49m\u001b[39m.\u001b[39;49m_get_value(key)\n\u001b[1;32m    <a href='file:///Users/wmeijer/miniforge3/envs/hackathon/lib/python3.9/site-packages/pandas/core/series.py?line=959'>960</a>\u001b[0m \u001b[39mif\u001b[39;00m is_hashable(key):\n\u001b[1;32m    <a href='file:///Users/wmeijer/miniforge3/envs/hackathon/lib/python3.9/site-packages/pandas/core/series.py?line=960'>961</a>\u001b[0m     \u001b[39m# Otherwise index.get_value will raise InvalidIndexError\u001b[39;00m\n\u001b[1;32m    <a href='file:///Users/wmeijer/miniforge3/envs/hackathon/lib/python3.9/site-packages/pandas/core/series.py?line=961'>962</a>\u001b[0m     \u001b[39mtry\u001b[39;00m:\n\u001b[1;32m    <a href='file:///Users/wmeijer/miniforge3/envs/hackathon/lib/python3.9/site-packages/pandas/core/series.py?line=962'>963</a>\u001b[0m         \u001b[39m# For labels that don't resolve as scalars like tuples and frozensets\u001b[39;00m\n",
      "File \u001b[0;32m~/miniforge3/envs/hackathon/lib/python3.9/site-packages/pandas/core/series.py:1069\u001b[0m, in \u001b[0;36mSeries._get_value\u001b[0;34m(self, label, takeable)\u001b[0m\n\u001b[1;32m   <a href='file:///Users/wmeijer/miniforge3/envs/hackathon/lib/python3.9/site-packages/pandas/core/series.py?line=1065'>1066</a>\u001b[0m     \u001b[39mreturn\u001b[39;00m \u001b[39mself\u001b[39m\u001b[39m.\u001b[39m_values[label]\n\u001b[1;32m   <a href='file:///Users/wmeijer/miniforge3/envs/hackathon/lib/python3.9/site-packages/pandas/core/series.py?line=1067'>1068</a>\u001b[0m \u001b[39m# Similar to Index.get_value, but we do not fall back to positional\u001b[39;00m\n\u001b[0;32m-> <a href='file:///Users/wmeijer/miniforge3/envs/hackathon/lib/python3.9/site-packages/pandas/core/series.py?line=1068'>1069</a>\u001b[0m loc \u001b[39m=\u001b[39m \u001b[39mself\u001b[39;49m\u001b[39m.\u001b[39;49mindex\u001b[39m.\u001b[39;49mget_loc(label)\n\u001b[1;32m   <a href='file:///Users/wmeijer/miniforge3/envs/hackathon/lib/python3.9/site-packages/pandas/core/series.py?line=1069'>1070</a>\u001b[0m \u001b[39mreturn\u001b[39;00m \u001b[39mself\u001b[39m\u001b[39m.\u001b[39mindex\u001b[39m.\u001b[39m_get_values_for_loc(\u001b[39mself\u001b[39m, loc, label)\n",
      "File \u001b[0;32m~/miniforge3/envs/hackathon/lib/python3.9/site-packages/pandas/core/indexes/range.py:387\u001b[0m, in \u001b[0;36mRangeIndex.get_loc\u001b[0;34m(self, key, method, tolerance)\u001b[0m\n\u001b[1;32m    <a href='file:///Users/wmeijer/miniforge3/envs/hackathon/lib/python3.9/site-packages/pandas/core/indexes/range.py?line=384'>385</a>\u001b[0m         \u001b[39mreturn\u001b[39;00m \u001b[39mself\u001b[39m\u001b[39m.\u001b[39m_range\u001b[39m.\u001b[39mindex(new_key)\n\u001b[1;32m    <a href='file:///Users/wmeijer/miniforge3/envs/hackathon/lib/python3.9/site-packages/pandas/core/indexes/range.py?line=385'>386</a>\u001b[0m     \u001b[39mexcept\u001b[39;00m \u001b[39mValueError\u001b[39;00m \u001b[39mas\u001b[39;00m err:\n\u001b[0;32m--> <a href='file:///Users/wmeijer/miniforge3/envs/hackathon/lib/python3.9/site-packages/pandas/core/indexes/range.py?line=386'>387</a>\u001b[0m         \u001b[39mraise\u001b[39;00m \u001b[39mKeyError\u001b[39;00m(key) \u001b[39mfrom\u001b[39;00m \u001b[39merr\u001b[39;00m\n\u001b[1;32m    <a href='file:///Users/wmeijer/miniforge3/envs/hackathon/lib/python3.9/site-packages/pandas/core/indexes/range.py?line=387'>388</a>\u001b[0m \u001b[39mself\u001b[39m\u001b[39m.\u001b[39m_check_indexing_error(key)\n\u001b[1;32m    <a href='file:///Users/wmeijer/miniforge3/envs/hackathon/lib/python3.9/site-packages/pandas/core/indexes/range.py?line=388'>389</a>\u001b[0m \u001b[39mraise\u001b[39;00m \u001b[39mKeyError\u001b[39;00m(key)\n",
      "\u001b[0;31mKeyError\u001b[0m: 0"
     ]
    }
   ],
   "source": [
    "i = 0\n",
    "while i < len(crop_A_t) and i < len(crop_B_t) and i < len(crop_C_t):\n",
    "    t = max(crop_A_t[i], crop_B_t[i], crop_C_t[i])\n",
    "    step = True\n",
    "    if crop_A_t[i] < t:\n",
    "        crop_A_t.pop(i)\n",
    "        crop_A.pop(i)\n",
    "        step = False\n",
    "    if crop_B_t[i] < t:\n",
    "        crop_B_t.pop(i)\n",
    "        crop_B.pop(i)\n",
    "        step = False\n",
    "    if crop_C_t[i] < t:\n",
    "        crop_C_t.pop(i)\n",
    "        crop_C.pop(i)\n",
    "        step = False\n",
    "    if step:\n",
    "        i += 1\n",
    "    print(i)\n",
    "\n"
   ]
  },
  {
   "cell_type": "code",
   "execution_count": null,
   "metadata": {
    "cell_id": "6878646ca3fd41cabf1bf376da08b41c",
    "deepnote_cell_height": 84,
    "deepnote_cell_type": "code",
    "tags": []
   },
   "outputs": [],
   "source": [
    "assert len(crop_A) == len(crop_B)\n",
    "assert len(crop_A) == len(crop_C)"
   ]
  },
  {
   "cell_type": "code",
   "execution_count": null,
   "metadata": {
    "cell_id": "b7958c73a161474dbfc98d8b0ac4e57b",
    "deepnote_cell_height": 66,
    "deepnote_cell_type": "code",
    "tags": []
   },
   "outputs": [],
   "source": [
    "pd.DataFrame([t_a, crop_A])"
   ]
  },
  {
   "cell_type": "markdown",
   "metadata": {
    "created_in_deepnote_cell": true,
    "deepnote_cell_type": "markdown",
    "tags": []
   },
   "source": [
    "<a style='text-decoration:none;line-height:16px;display:flex;color:#5B5B62;padding:10px;justify-content:end;' href='https://deepnote.com?utm_source=created-in-deepnote-cell&projectId=58dc0391-5e72-435e-889e-3e6e11073ba7' target=\"_blank\">\n",
    "<img alt='Created in deepnote.com' style='display:inline;max-height:16px;margin:0px;margin-right:7.5px;' src='data:image/svg+xml;base64,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' > </img>\n",
    "Created in <span style='font-weight:600;margin-left:4px;'>Deepnote</span></a>"
   ]
  }
 ],
 "metadata": {
  "deepnote": {
   "is_reactive": false
  },
  "deepnote_execution_queue": [
   {
    "cellId": "3cfc3e3d6a0347dd8d6b40b5a0daebc3",
    "msgId": "8b3ee778-66d3-4ab2-8684-22579c295f8d",
    "sessionId": "342c267c-27f3-4b3c-ac59-1531344fe485"
   }
  ],
  "deepnote_notebook_id": "66716b84-29d6-4fb5-967e-560234dfc4bf",
  "interpreter": {
   "hash": "b6a7e929055786453baecea73c52b1d5eb8694e60a6ec5deb9e301cd9ed0d65c"
  },
  "kernelspec": {
   "display_name": "Python 3.9.12 ('hackathon')",
   "language": "python",
   "name": "python3"
  },
  "language_info": {
   "codemirror_mode": {
    "name": "ipython",
    "version": 3
   },
   "file_extension": ".py",
   "mimetype": "text/x-python",
   "name": "python",
   "nbconvert_exporter": "python",
   "pygments_lexer": "ipython3",
   "version": "3.9.12"
  },
  "orig_nbformat": 2
 },
 "nbformat": 4,
 "nbformat_minor": 2
}
